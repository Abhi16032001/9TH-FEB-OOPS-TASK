{
 "cells": [
  {
   "cell_type": "code",
   "execution_count": 10,
   "id": "8e8e17e4-94da-4a68-be44-9f0f863f0495",
   "metadata": {},
   "outputs": [
    {
     "name": "stdout",
     "output_type": "stream",
     "text": [
      "Splendor Plus\n",
      "100\n",
      "50\n"
     ]
    },
    {
     "ename": "NameError",
     "evalue": "name 'Splendor_Plus' is not defined",
     "output_type": "error",
     "traceback": [
      "\u001b[0;31m---------------------------------------------------------------------------\u001b[0m",
      "\u001b[0;31mNameError\u001b[0m                                 Traceback (most recent call last)",
      "Cell \u001b[0;32mIn[10], line 16\u001b[0m\n\u001b[1;32m     13\u001b[0m \u001b[38;5;28mprint\u001b[39m(bike\u001b[38;5;241m.\u001b[39mmax_speed)\n\u001b[1;32m     14\u001b[0m \u001b[38;5;28mprint\u001b[39m(bike\u001b[38;5;241m.\u001b[39maverage_of_vehicle)\n\u001b[0;32m---> 16\u001b[0m \u001b[43mSplendor_Plus\u001b[49m\n\u001b[1;32m     17\u001b[0m \u001b[38;5;241m100\u001b[39m\n\u001b[1;32m     18\u001b[0m \u001b[38;5;241m50\u001b[39m\n",
      "\u001b[0;31mNameError\u001b[0m: name 'Splendor_Plus' is not defined"
     ]
    }
   ],
   "source": [
    "# Q1, Create a vehicle class with an init method having instance variables as name_of_vehicle, max_speed\n",
    "#      and average_of_vehicle.\n",
    "# Ans:\n",
    "\n",
    "class vehicle:\n",
    "    def __init__(self, name_of_vehicle, max_speed, average_of_vehicle):\n",
    "        self.name_of_vehicle = name_of_vehicle\n",
    "        self.max_speed = max_speed\n",
    "        self.average_of_vehicle = average_of_vehicle\n",
    "        \n",
    "bike = vehicle(\"Splendor Plus\", 100, 50)\n",
    "print(bike.name_of_vehicle)\n",
    "print(bike.max_speed)\n",
    "print(bike.average_of_vehicle)\n",
    "\n",
    "Splendor_Plus\n",
    "100\n",
    "50"
   ]
  },
  {
   "cell_type": "code",
   "execution_count": 11,
   "id": "ef7747f0-c2af-4578-a99f-571195f4bd3d",
   "metadata": {},
   "outputs": [
    {
     "data": {
      "text/plain": [
       "'Thar has a seating capacity of 4 persons.'"
      ]
     },
     "execution_count": 11,
     "metadata": {},
     "output_type": "execute_result"
    }
   ],
   "source": [
    "# Q.2 Create a child class from the vehicle class created in Que1, which will inherit the vehicle class.Create a method named \n",
    "#     seating_capacity which takes capacity as an argument and returns the name of the vehicle and its seating capacity.\n",
    "# Ans:\n",
    "\n",
    "\n",
    "class Car(vehicle):\n",
    "    def seating_capacity(self, capacity):\n",
    "        return f\"{self.name_of_vehicle} has a seating capacity of {capacity} persons.\"\n",
    "car = Car(\"Thar\", 155, 15)\n",
    "car.seating_capacity(4)\n",
    "'Thar has a seating capacity of 4 persons.'"
   ]
  },
  {
   "cell_type": "code",
   "execution_count": 14,
   "id": "88da8591-f42e-40ac-afca-f1e68ac92c10",
   "metadata": {},
   "outputs": [
    {
     "name": "stdout",
     "output_type": "stream",
     "text": [
      "Father : RAM\n",
      "Mother : SITA\n"
     ]
    }
   ],
   "source": [
    "# Q.3 what is Multiple Inheritance? write a python code to demonstrate method of Multiple inheritance.\n",
    "\n",
    "# Ans: Multiple Inheritance : It is a feature of Object oriented programing that allows us to inherit more than one base class\n",
    "#                             into a child class. By which we can use all the properties and methods of multiple base classes.\n",
    "# Example:\n",
    "    \n",
    "# Python program to demonstrate\n",
    "# multiple inheritance\n",
    " \n",
    "# Base class1\n",
    "class Mother:\n",
    "    mothername = \"\"\n",
    " \n",
    "    def mother(self):\n",
    "        print(self.mothername)\n",
    " \n",
    "\n",
    " # Base class2\n",
    "class Father:\n",
    "    fathername = \"\"\n",
    " \n",
    "    def father(self):\n",
    "        print(self.fathername)\n",
    " \n",
    "\n",
    "\n",
    " #Derived class\n",
    "class Son(Mother, Father):\n",
    "    def parents(self):\n",
    "        print(\"Father :\", self.fathername)\n",
    "        print(\"Mother :\", self.mothername)\n",
    " \n",
    " \n",
    "# Driver's code\n",
    "s1 = Son()\n",
    "s1.fathername = \"RAM\"\n",
    "s1.mothername = \"SITA\"\n",
    "s1.parents()"
   ]
  },
  {
   "cell_type": "code",
   "execution_count": 16,
   "id": "018fc3a0-7b30-4000-98f1-09539dc23354",
   "metadata": {},
   "outputs": [
    {
     "name": "stdout",
     "output_type": "stream",
     "text": [
      "John Doe\n",
      "Jane Doe\n"
     ]
    }
   ],
   "source": [
    "# Q4. What are getter and setter in python? Create a class and create a getter and a setter method in this class.\n",
    "\n",
    "# Ans: In python, the setter and getter method allow us to access the values of an object's properties , A getter is used to\n",
    "#      retrive the values of property, while setter is used to set the value of a property. By using it, we can control how an \n",
    "#     object's properties accessed and modified\n",
    "    \n",
    "#     Example of getter and setter methods:\n",
    "class Person:\n",
    "    def __init__(self, name, age):\n",
    "        self.__name = name\n",
    "        self.__age = age\n",
    "\n",
    "    @property                # getter for modifying name attribute\n",
    "    def name(self):\n",
    "        return self.__name\n",
    "\n",
    "    @name.setter             # setter for modifying name attribute\n",
    "    def name(self, name):\n",
    "        self.__name = name\n",
    "\n",
    "    @property                #getter for retrieving age attribute\n",
    "    def age(self):\n",
    "        return self.__age\n",
    "\n",
    "    @age.setter             #setter for modifying age attribute\n",
    "    def age(self, age):\n",
    "        self.__age = age\n",
    "\n",
    "person = Person(\"John Doe\", 30)\n",
    "print(person.name)  # Output: John Doe\n",
    "person.name = \"Jane Doe\"\n",
    "print(person.name)  # Output: Jane Doe"
   ]
  },
  {
   "cell_type": "code",
   "execution_count": 18,
   "id": "c816fe20-bceb-4f17-90e0-1a0e417d526d",
   "metadata": {},
   "outputs": [
    {
     "name": "stdout",
     "output_type": "stream",
     "text": [
      "Bark\n"
     ]
    }
   ],
   "source": [
    "# Q5.What is method overriding in python? Write a python code to demonstrate method overriding.\n",
    "\n",
    "\n",
    "\n",
    "# Ans Method Overriding: It is a feature of object oriented programing, where a subclass provides a new implementation of\n",
    "#                         a method which already exist in parent class.The new implementation in subclass replace the\n",
    "#                         original implemantaion in parent class.This allows subclass to inherit the cherecteristics of parent\n",
    "#                         class.\n",
    "#             for Example:\n",
    "#                 we have two class 'parent' and 'child' in which child is the subclass of parent. In parent class we use a \n",
    "#                   method 'Introduction'and the child class overrides the method and provides its own implementation\n",
    "\n",
    "#ParentClass\n",
    "class Animal:\n",
    "    def make_sound(self):\n",
    "        print(\"Animal sound\")\n",
    "        \n",
    "#Child Class\n",
    "class Dog(Animal):\n",
    "    def make_sound(self):\n",
    "        print(\"Bark\")\n",
    "\n",
    "dog = Dog()\n",
    "dog.make_sound()  # Output: Bark"
   ]
  },
  {
   "cell_type": "code",
   "execution_count": null,
   "id": "a0860f88-37b3-48d0-9f21-f4ae77fc1862",
   "metadata": {},
   "outputs": [],
   "source": []
  }
 ],
 "metadata": {
  "kernelspec": {
   "display_name": "Python 3 (ipykernel)",
   "language": "python",
   "name": "python3"
  },
  "language_info": {
   "codemirror_mode": {
    "name": "ipython",
    "version": 3
   },
   "file_extension": ".py",
   "mimetype": "text/x-python",
   "name": "python",
   "nbconvert_exporter": "python",
   "pygments_lexer": "ipython3",
   "version": "3.10.8"
  }
 },
 "nbformat": 4,
 "nbformat_minor": 5
}
